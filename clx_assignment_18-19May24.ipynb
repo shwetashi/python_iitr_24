{
 "cells": [
  {
   "cell_type": "code",
   "execution_count": 4,
   "id": "c4c5fd31",
   "metadata": {},
   "outputs": [
    {
     "name": "stdout",
     "output_type": "stream",
     "text": [
      "[-1, -1, -1]\n",
      "[5, 7, 10]\n"
     ]
    }
   ],
   "source": [
    "#Given two vectors(array or list of numbers). Return thr difference of the two vector\n",
    "def vector_difference(L1,L2):\n",
    "    result = [a - b for a, b in zip(L1, L2)]\n",
    "    print(result)\n",
    "    \n",
    "\n",
    "L1=[1,2,3]\n",
    "L2=[2,3,4]\n",
    "vector_difference(L1,L2)\n",
    "\n",
    "list1 = [7, 10, 14, 18]\n",
    "list2 = [3, 8, 9, 15]\n",
    "vector_difference(list1,L2)\n",
    "\n",
    "#print(result)\n"
   ]
  },
  {
   "cell_type": "code",
   "execution_count": 10,
   "id": "bc34fa7a",
   "metadata": {},
   "outputs": [
    {
     "name": "stdout",
     "output_type": "stream",
     "text": [
      "[-1, -1, -1]\n",
      "3\n",
      "[5, 7, 10]\n",
      "22\n"
     ]
    }
   ],
   "source": [
    "#Given two vectors(array or list of number ). find absolute distance between them.\n",
    "def absolute_distance(L1,L2):\n",
    "    distance=0\n",
    "    result = [a - b for a, b in zip(L1, L2)]\n",
    "    print(result)\n",
    "    for r in result:\n",
    "        distance += r \n",
    "    print(abs(distance))\n",
    "    \n",
    "\n",
    "L1=[1,2,3]\n",
    "L2=[2,3,4]\n",
    "absolute_distance(L1,L2)\n",
    "\n",
    "list1 = [7, 10, 14, 18]\n",
    "list2 = [3, 8, 9, 15]\n",
    "absolute_distance(list1,L2)\n",
    "\n",
    "#print(result)"
   ]
  },
  {
   "cell_type": "code",
   "execution_count": 6,
   "id": "5a0d3576",
   "metadata": {},
   "outputs": [
    {
     "name": "stdout",
     "output_type": "stream",
     "text": [
      "2.23606797749979\n"
     ]
    }
   ],
   "source": [
    "#Given 2 2D vector representing 2 points. Find the distance between two points \n",
    "import math\n",
    "def distance_two_vectors(L1,L2):\n",
    "    sum_s=0\n",
    "    #distance between two points \n",
    "    #d=√((x2 – x1)² + (y2 – y1)²).\n",
    "    square_of_points = [ (a-b)**2 for a, b in zip(L1, L2)]\n",
    "    for i in square_of_points:\n",
    "        sum_s += i\n",
    "    return(math.sqrt(sum_s))  \n",
    "\n",
    "\n",
    "L1=[1,2]\n",
    "L2=[2,4]\n",
    "result=distance_two_vectors(L1,L2)\n",
    "print(result)"
   ]
  },
  {
   "cell_type": "code",
   "execution_count": 7,
   "id": "f1265be2",
   "metadata": {},
   "outputs": [
    {
     "name": "stdout",
     "output_type": "stream",
     "text": [
      "2.449489742783178\n"
     ]
    }
   ],
   "source": [
    "#Given 2 3D vector representing 2 points. Find the distance between two point\n",
    "#eg [1,2,3][2,3,4]-> math.sqrt(3)\n",
    "import math\n",
    "def distance_two_vectors(L1,L2):\n",
    "    sum_s=0\n",
    "    #distance between two points \n",
    "    #d=√((x2 – x1)² + (y2 – y1)²).\n",
    "    square_of_points = [ (a-b)**2 for a, b in zip(L1, L2)]\n",
    "    for i in square_of_points:\n",
    "        sum_s += i\n",
    "    return(math.sqrt(sum_s))  \n",
    "\n",
    "\n",
    "L1=[1,2,4]\n",
    "L2=[2,4,5]\n",
    "result=distance_two_vectors(L1,L2)\n",
    "print(result)\n"
   ]
  },
  {
   "cell_type": "code",
   "execution_count": 8,
   "id": "ee03addf",
   "metadata": {},
   "outputs": [
    {
     "name": "stdout",
     "output_type": "stream",
     "text": [
      "8.888194417315589\n"
     ]
    }
   ],
   "source": [
    "#Given 2 ND vector representing 2 points. Find the distance between two point\n",
    "#eg [1,2,3][2,3,4]-> math.sqrt(3)\n",
    "\n",
    "import math\n",
    "#Given 2 2D vector representing 2 points. Find the distance between two points \n",
    "def distance_two_vectors(L1,L2):\n",
    "    sum_s=0\n",
    "    #distance between two points \n",
    "    #d=√((x2 – x1)² + (y2 – y1)²).\n",
    "    square_of_points = [ (a-b)**2 for a, b in zip(L1, L2)]\n",
    "    for i in square_of_points:\n",
    "        sum_s += i\n",
    "    return(math.sqrt(sum_s))  \n",
    "\n",
    "\n",
    "L1=[1,2,3,8,9]\n",
    "L2=[2,4,6,7,1]\n",
    "result=distance_two_vectors(L1,L2)\n",
    "print(result)\n"
   ]
  },
  {
   "cell_type": "code",
   "execution_count": 9,
   "id": "fb44ec3f",
   "metadata": {},
   "outputs": [
    {
     "name": "stdout",
     "output_type": "stream",
     "text": [
      "argv: pointer to char\n",
      "daytab: pointer to array[13] of int\n",
      "daytab: array[13] of pointer to int\n",
      "comp: function returning pointer to void\n",
      "comp:  pointer to function returning void\n",
      "x: function returning pointer to array[] of pointer to function returning char\n",
      "x: array[3] of pointer to function returning pointer to array[5] of char\n"
     ]
    }
   ],
   "source": [
    "#pattern \n",
    "# char **argv\n",
    "#  argv: pointer to char\n",
    "# int (*daytab)[13]\n",
    "#  daytab: pointer to array[13] of int\n",
    "# int *daytab[13]\n",
    "#  daytab: array[13] of pointer to int\n",
    "# void *comp()\n",
    "#  comp: function returning pointer to void\n",
    "# void (*comp)()\n",
    "#  comp: pointer to function returning void\n",
    "# char (*(*x())[])()\n",
    "#  x: function returning pointer to array[] of\n",
    "#  pointer to function returning char\n",
    "# char (*(*x[3])())[5]\n",
    "#  x: array[3] of pointer to function returning\n",
    "#  pointer to array[5] of char\n",
    "import re \n",
    "\n",
    "pattern1 = \"char **argv\"\n",
    "x = re.search(\"^(\\w*)\\s\\*\\*(\\w*)$\", pattern1)\n",
    "if(x):\n",
    "    print(\"{}: pointer to {}\".format(x.group(2),x.group(1)))\n",
    "\n",
    "    \n",
    "pattern2 = \"int (*daytab)[13]\"\n",
    "x = re.search(\"^(\\w*) \\(\\*(\\w*)\\)\\[(\\d+)\\]$\", pattern2)\n",
    "if(x):\n",
    "    print(\"{}: pointer to array[{}] of {}\".format(x.group(2),x.group(3),x.group(1)))\n",
    "\n",
    "pattern3 = \"int *daytab[13]\"\n",
    "x = re.search(\"^(\\w*) \\*(\\w*)\\[(\\d+)\\]$\", pattern3)\n",
    "if(x):\n",
    "    print(\"{}: array[{}] of pointer to {}\".format(x.group(2),x.group(3),x.group(1)))\n",
    "\n",
    "pattern4 =\"void *comp()\"\n",
    "x = re.search(\"^(\\w*) \\*(\\w*)\\(\\)$\", pattern4)\n",
    "if(x):\n",
    "    print(\"{}: function returning pointer to {}\".format(x.group(2),x.group(1)))\n",
    "\n",
    "#void (*comp)()\n",
    "#  comp: pointer to function returning void\n",
    "    \n",
    "pattern5 =\"void (*comp)()\"\n",
    "x = re.search(\"^(\\w*) \\(\\*(\\w*)\\)\\(\\)$\", pattern5)\n",
    "if(x):\n",
    "    print(\"{}:  pointer to function returning {}\".format(x.group(2),x.group(1)))\n",
    "\n",
    "pattern6= \"char (*(*x())[])()\"\n",
    "x = re.search(\"^(\\w*) \\(\\*\\(\\*(\\w*)\\(\\\\)\\)\\[\\]\\)\\(\\)$\", pattern6)\n",
    "if(x):\n",
    "    print(\"{}: function returning pointer to array[] of pointer to function returning {}\".format(x.group(2),x.group(1)))\n",
    "\n",
    "pattern7= \"char (*(*x[3])())[5]\"\n",
    "x = re.search(\"^(\\w*) \\(\\*\\(\\*(\\w*)\\[(\\d+)\\]\\)\\(\\)\\)\\[(\\d+)\\]$\", pattern7)\n",
    "if(x):\n",
    "    print(\"{}: array[{}] of pointer to function returning pointer to array[{}] of {}\".format(x.group(2),x.group(3),x.group(4),x.group(1)))\n"
   ]
  },
  {
   "cell_type": "code",
   "execution_count": null,
   "id": "dacae286",
   "metadata": {},
   "outputs": [],
   "source": []
  },
  {
   "cell_type": "code",
   "execution_count": null,
   "id": "be50cb56",
   "metadata": {},
   "outputs": [],
   "source": []
  },
  {
   "cell_type": "code",
   "execution_count": null,
   "id": "baca00eb",
   "metadata": {},
   "outputs": [],
   "source": []
  }
 ],
 "metadata": {
  "kernelspec": {
   "display_name": "Python 3 (ipykernel)",
   "language": "python",
   "name": "python3"
  },
  "language_info": {
   "codemirror_mode": {
    "name": "ipython",
    "version": 3
   },
   "file_extension": ".py",
   "mimetype": "text/x-python",
   "name": "python",
   "nbconvert_exporter": "python",
   "pygments_lexer": "ipython3",
   "version": "3.11.5"
  }
 },
 "nbformat": 4,
 "nbformat_minor": 5
}
