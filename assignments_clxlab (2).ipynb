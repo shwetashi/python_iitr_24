{
 "cells": [
  {
   "cell_type": "code",
   "execution_count": 14,
   "id": "64ad7ad7",
   "metadata": {},
   "outputs": [
    {
     "name": "stdout",
     "output_type": "stream",
     "text": [
      "abc\n",
      "acb\n",
      "bac\n",
      "bca\n",
      "cba\n",
      "cab\n"
     ]
    }
   ],
   "source": [
    "' ' 'Permutation of a string logic' ' '\n",
    "  \n",
    "\n",
    "#return string from a list\n",
    "def toString(lst1):\n",
    "    return \"\".join(lst1)\n",
    "\n",
    "#function to permute \n",
    "def permute(lst1,l,r):\n",
    "    if(l==r):\n",
    "        print(toString(lst1))\n",
    "    else:\n",
    "        for i in range(l,r):\n",
    "            lst1[i],lst1[l]=lst1[l],lst1[i]\n",
    "            #print(lst1)\n",
    "            permute(lst1,l+1,r)\n",
    "            #print(lst1)\n",
    "            lst1[i],lst1[l]=lst1[l],lst1[i] #backtracking\n",
    "\n",
    "\n",
    "str1=\"abc\"\n",
    "l=0\n",
    "r=len(str1)\n",
    "lst1=list(str1)\n",
    "permute(lst1,l,r)\n"
   ]
  },
  {
   "cell_type": "code",
   "execution_count": 7,
   "id": "05b8cce8",
   "metadata": {},
   "outputs": [
    {
     "name": "stdout",
     "output_type": "stream",
     "text": [
      "Enter Hours:45\n",
      "Enter Rate:10\n",
      "450.0\n"
     ]
    }
   ],
   "source": [
    "'''Write a program to prompt the user for hours and rate per hour to compute gross pay \n",
    "e.g. Enter Hours:35\n",
    "     Enter Rate :2.75\n",
    "     Resulted gross pay would be 96.25\n",
    "'''\n",
    "w_hours = int(input(\"Enter Hours:\"))\n",
    "rate_per_hours =float(input(\"Enter Rate:\"))\n",
    "resulted_gross_pay = w_hours * rate_per_hours\n",
    "print(resulted_gross_pay)\n",
    "\n",
    "\n"
   ]
  },
  {
   "cell_type": "code",
   "execution_count": 3,
   "id": "b3e9fbdb",
   "metadata": {},
   "outputs": [
    {
     "name": "stdout",
     "output_type": "stream",
     "text": [
      "Enter principal amount:1200\n",
      "Enter Rate of interest:5.4\n",
      "Enter time in years:2\n",
      "Compound interest : 133.0992000000001\n"
     ]
    }
   ],
   "source": [
    "'''Write a program to compute the total amount after compound interest\n",
    "e.g. principal:35\n",
    "     Rate :2.75\n",
    "     time(years) :\n",
    "     \n",
    "     compound_interest = principal_amount * (1 + interest_rate/100) ** number_of_years – principal_amount\n",
    "'''\n",
    "def compound_interest(principal, rate, time):\n",
    "    amount=principal*pow((1+rate/100),time)\n",
    "    CI= amount - principal\n",
    "    return CI\n",
    "principal = int(input(\"Enter principal amount:\"))\n",
    "rate =float(input(\"Enter Rate of interest:\"))\n",
    "time = int(input(\"Enter time in years:\")) \n",
    "\n",
    "CI=compound_interest(principal,rate, time)\n",
    "print(\"Compound interest :\",CI)"
   ]
  },
  {
   "cell_type": "code",
   "execution_count": 6,
   "id": "767fb660",
   "metadata": {},
   "outputs": [
    {
     "name": "stdout",
     "output_type": "stream",
     "text": [
      "2000 is a leap year\n",
      "2004 is a leap year\n",
      "2008 is a leap year\n",
      "2012 is a leap year\n",
      "2016 is a leap year\n",
      "2020 is a leap year\n",
      "2024 is a leap year\n",
      "2028 is a leap year\n",
      "2032 is a leap year\n",
      "2036 is a leap year\n",
      "2040 is a leap year\n",
      "2044 is a leap year\n",
      "2048 is a leap year\n",
      "2022 is not leap year\n",
      "2001 is not leap year\n"
     ]
    }
   ],
   "source": [
    "def leap_year(years):\n",
    "    for y in years:\n",
    "        if (y % 4 == 0 and y % 100 != 0) or (y % 400 == 0):\n",
    "        #if y % 100 != 0 and y % 4 == 0 or y % 400 == 0 :\n",
    "            print(str(y)+\" is a leap year\")\n",
    "        else :\n",
    "            print(str(y)+\" is not leap year\")\n",
    "    \n",
    "lst =[2000, 2004, 2008, 2012, 2016, 2020, 2024, 2028, 2032, 2036, 2040, 2044, 2048,2022,2001]\n",
    "leap_year(lst)"
   ]
  },
  {
   "cell_type": "code",
   "execution_count": 5,
   "id": "a7c1a199",
   "metadata": {},
   "outputs": [
    {
     "name": "stdout",
     "output_type": "stream",
     "text": [
      "Enter Hours:23\n",
      "Enter Rate:10\n",
      "230.0\n"
     ]
    }
   ],
   "source": [
    "'''Rewrite your pay computation to give the employee 1.5 times the hourly rate for hours worked above 40 hours\n",
    "e.g. Enter Hours:45\n",
    "     Enter Rate :10\n",
    "     Resulted  pay would be 475.0\n",
    "'''\n",
    "w_hours = int(input(\"Enter Hours:\"))\n",
    "rate_per_hours =float(input(\"Enter Rate:\"))\n",
    "if(w_hours > 40):\n",
    "    extra_hrs=(w_hours-40)\n",
    "    print(extra_hrs)\n",
    "    resulted_pay = 40 * rate_per_hours + extra_hrs*1.5*rate_per_hours\n",
    "else:\n",
    "    resulted_pay = w_hours * rate_per_hours\n",
    "print(resulted_pay)\n"
   ]
  },
  {
   "cell_type": "code",
   "execution_count": 5,
   "id": "e1d63734",
   "metadata": {},
   "outputs": [
    {
     "name": "stdout",
     "output_type": "stream",
     "text": [
      "7 7\n",
      "-0.3329515439589552\n",
      "0.7168049268431441\n",
      "0.7168049268431441\n"
     ]
    }
   ],
   "source": [
    "import math\n",
    "from numpy import * \n",
    "#r is effective reference corpus length\n",
    "#c  is the length of the candidate(predictions) corpus\n",
    "#Problem BLEU score. Code it \n",
    "n =  4\n",
    "wgm=0\n",
    "weights = (0.25, 0.25, 1, 1) # Weights for uni-gram, bi-gram, tri-gram, and 4-gram\n",
    "p=(0.66,0.4,1,1)\n",
    "reference = [[\"the\",\"cat\",\"is\",\"on\",\"the\",\"mat\"],\n",
    "             [\"there\",\"is\",\"a\",\"cat\",\"on\",\"the\",\"mat\"]]\n",
    "predictions = [\"the\",\"the\",\"the\",\"the\",\"the\",\"the\",\"cat\"]\n",
    "\n",
    "r=max(len(reference[0]),len(reference[1]))\n",
    "c=len(predictions)\n",
    "print(r,c)\n",
    "exp=0\n",
    "BLEU_Score=0\n",
    "\n",
    "#Brevity penalty \n",
    "if(r<=c):\n",
    "    BP=1\n",
    "else:\n",
    "    BP=math.exp(1-r/c)\n",
    "    \n",
    "#BLEU Score\n",
    "#multiply the Brevity Penalty with the Geometric Average of the Precision Scores.\n",
    "#Bleu Score can be computed for different values of n. Typically, we use n = 4\n",
    "\n",
    "for i in range(0,n):\n",
    "    w=(weights[i])\n",
    "    l= ma.log(p[i])\n",
    "    wgm += (w*l)\n",
    "    #print(expression)\n",
    "print(wgm)\n",
    "exp_part = math.exp(wgm)\n",
    "print(exp_part)\n",
    "BLEU_Score=(BP*exp_part)\n",
    "    \n",
    "print(BLEU_Score)"
   ]
  },
  {
   "cell_type": "code",
   "execution_count": 6,
   "id": "8d635ef0",
   "metadata": {},
   "outputs": [
    {
     "name": "stdout",
     "output_type": "stream",
     "text": [
      "4.875\n"
     ]
    }
   ],
   "source": [
    "#Huber Loss is a popular loss function used in machine learning for regression tasks, \n",
    "#particularly when dealing with outliers in the data. \n",
    "#It combines the properties of both quadratic loss (squared error) and absolute loss (absolute error) to provide a more robust solution\n",
    "\n",
    "#Huber loss\n",
    "actual =100\n",
    "predicted =110\n",
    "#diff\n",
    "a=actual-predicted\n",
    "delta =0.5\n",
    "\n",
    "absa=a\n",
    "if absa <0:\n",
    "    absa = -a \n",
    "huber =0\n",
    "if absa <= delta:\n",
    "    huber = a*a/2\n",
    "else:\n",
    "    huber = delta*(absa-delta/2)\n",
    "print(huber)"
   ]
  },
  {
   "cell_type": "code",
   "execution_count": null,
   "id": "ad92e890",
   "metadata": {},
   "outputs": [],
   "source": []
  }
 ],
 "metadata": {
  "kernelspec": {
   "display_name": "Python 3 (ipykernel)",
   "language": "python",
   "name": "python3"
  },
  "language_info": {
   "codemirror_mode": {
    "name": "ipython",
    "version": 3
   },
   "file_extension": ".py",
   "mimetype": "text/x-python",
   "name": "python",
   "nbconvert_exporter": "python",
   "pygments_lexer": "ipython3",
   "version": "3.11.5"
  }
 },
 "nbformat": 4,
 "nbformat_minor": 5
}
