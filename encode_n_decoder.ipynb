{
 "cells": [
  {
   "cell_type": "code",
   "execution_count": 9,
   "id": "9031c8a5",
   "metadata": {},
   "outputs": [],
   "source": [
    "# Assignment 9.1.1 : CSV File encoding (problem.pdf)\n"
   ]
  },
  {
   "cell_type": "code",
   "execution_count": null,
   "id": "544b7819",
   "metadata": {},
   "outputs": [],
   "source": []
  },
  {
   "cell_type": "code",
   "execution_count": 43,
   "id": "9d6139f1",
   "metadata": {},
   "outputs": [],
   "source": [
    "import pandas as pd\n",
    "\n",
    "def encode_users(input_csv='user_emailids.csv', output_csv='encoded_emailids1.csv', mapping_file='email_to_id.csv'):\n",
    "    # Read input CSV\n",
    "    df = pd.read_csv(input_csv)\n",
    "    \n",
    "    # Generate email to ID mapping\n",
    "    email_to_id = {email: idx for idx, email in enumerate(df['user_email_id'].unique(), start=100)}\n",
    "    \n",
    "    # Save mapping to file\n",
    "    pd.DataFrame(email_to_id.items(), columns=['user_email_id', 'user_id']).to_csv(mapping_file, index=False)\n",
    "    \n",
    "    # Replace email with ID\n",
    "    df['user_id'] = df['user_email_id'].map(email_to_id)\n",
    "    \n",
    "    # Create encoded input\n",
    "    encoded_df = df[['user_id', 'product_id', 'score']]\n",
    "    \n",
    "    # Write encoded data to output\n",
    "    encoded_df.to_csv(output_csv, index=False)\n",
    "    print(f'Encoded file saved as: {output_csv}')\n",
    "    print(f'Mapping file saved as: {mapping_file}')\n",
    "\n",
    "# Run the encoder\n",
    "# encode_users()\n",
    "\n"
   ]
  },
  {
   "cell_type": "code",
   "execution_count": 49,
   "id": "12f93c73",
   "metadata": {},
   "outputs": [],
   "source": [
    "\n",
    "def decode_users(recommendation_csv='recommendation.csv', mapping_file='email_to_id.csv', output_csv='final_recommendations.csv'):\n",
    "    # Load ID to email mapping\n",
    "    id_map = pd.read_csv(mapping_file)\n",
    "    id_to_email = dict(zip(id_map['user_id'], id_map['user_email_id']))\n",
    "    \n",
    "    # Read recommendations\n",
    "    df = pd.read_csv(recommendation_csv)\n",
    "    \n",
    "    # Replace ID with email\n",
    "    df['user_email_id'] = df['user_id'].map(id_to_email)\n",
    "    \n",
    "    # Reorder and write final recommendations\n",
    "    final_df = df[['user_email_id', 'product_id', 'score']]\n",
    "    final_df.to_csv(output_csv, index=False)\n",
    "    print(f'Decoded recommendations saved as: {output_csv}')\n",
    "\n",
    "# Run the decoder\n",
    "# decode_users()\n"
   ]
  },
  {
   "cell_type": "code",
   "execution_count": 50,
   "id": "7f304cd5",
   "metadata": {},
   "outputs": [
    {
     "name": "stdout",
     "output_type": "stream",
     "text": [
      "Encoded file saved as: encoded_emailids1.csv\n",
      "Mapping file saved as: email_to_id.csv\n"
     ]
    }
   ],
   "source": [
    "encode_users()"
   ]
  },
  {
   "cell_type": "code",
   "execution_count": 51,
   "id": "f13ed5d2",
   "metadata": {},
   "outputs": [
    {
     "name": "stdout",
     "output_type": "stream",
     "text": [
      "Decoded recommendations saved as: final_recommendations.csv\n"
     ]
    }
   ],
   "source": [
    "decode_users()"
   ]
  },
  {
   "cell_type": "code",
   "execution_count": null,
   "id": "488ce479",
   "metadata": {},
   "outputs": [],
   "source": []
  },
  {
   "cell_type": "code",
   "execution_count": null,
   "id": "a0f00044",
   "metadata": {},
   "outputs": [],
   "source": []
  }
 ],
 "metadata": {
  "kernelspec": {
   "display_name": "Python 3 (ipykernel)",
   "language": "python",
   "name": "python3"
  },
  "language_info": {
   "codemirror_mode": {
    "name": "ipython",
    "version": 3
   },
   "file_extension": ".py",
   "mimetype": "text/x-python",
   "name": "python",
   "nbconvert_exporter": "python",
   "pygments_lexer": "ipython3",
   "version": "3.11.5"
  }
 },
 "nbformat": 4,
 "nbformat_minor": 5
}
